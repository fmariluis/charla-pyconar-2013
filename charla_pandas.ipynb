{
 "metadata": {
  "name": ""
 },
 "nbformat": 3,
 "nbformat_minor": 0,
 "worksheets": [
  {
   "cells": [
    {
     "cell_type": "heading",
     "level": 1,
     "metadata": {
      "slideshow": {
       "slide_type": "slide"
      }
     },
     "source": [
      "An\u00e1lisis de datos con Pandas"
     ]
    },
    {
     "cell_type": "code",
     "collapsed": false,
     "input": [
      "import pandas as pd"
     ],
     "language": "python",
     "metadata": {},
     "outputs": [],
     "prompt_number": 1
    },
    {
     "cell_type": "code",
     "collapsed": false,
     "input": [
      "df = pd.DataFrame()"
     ],
     "language": "python",
     "metadata": {},
     "outputs": [],
     "prompt_number": 2
    },
    {
     "cell_type": "code",
     "collapsed": false,
     "input": [
      "ls"
     ],
     "language": "python",
     "metadata": {},
     "outputs": [
      {
       "output_type": "stream",
       "stream": "stdout",
       "text": [
        "charla_pandas.ipynb  electoral-2007-presidente.csv  LICENSE  README.md  requirements.txt  \u001b[0m\u001b[01;34msample\u001b[0m/  \u001b[01;34mslides\u001b[0m/\r\n"
       ]
      }
     ],
     "prompt_number": 3
    },
    {
     "cell_type": "code",
     "collapsed": false,
     "input": [
      "df = pd.DataFrame.from_csv('electoral-2007-presidente.csv', parse_dates=False)"
     ],
     "language": "python",
     "metadata": {},
     "outputs": [],
     "prompt_number": 8
    },
    {
     "cell_type": "code",
     "collapsed": false,
     "input": [
      "df"
     ],
     "language": "python",
     "metadata": {},
     "outputs": [
      {
       "html": [
        "<pre>\n",
        "&lt;class 'pandas.core.frame.DataFrame'&gt;\n",
        "Int64Index: 11670 entries, 2007 to 2007\n",
        "Data columns (total 8 columns):\n",
        "eleccion          11670  non-null values\n",
        "provinciaId       11670  non-null values\n",
        "provincia         11670  non-null values\n",
        "departamentoId    11670  non-null values\n",
        "departamento      11670  non-null values\n",
        "partidoId         11670  non-null values\n",
        "partido           11670  non-null values\n",
        "votos             11670  non-null values\n",
        "dtypes: int64(4), object(4)\n",
        "</pre>"
       ],
       "metadata": {},
       "output_type": "pyout",
       "prompt_number": 9,
       "text": [
        "<class 'pandas.core.frame.DataFrame'>\n",
        "Int64Index: 11670 entries, 2007 to 2007\n",
        "Data columns (total 8 columns):\n",
        "eleccion          11670  non-null values\n",
        "provinciaId       11670  non-null values\n",
        "provincia         11670  non-null values\n",
        "departamentoId    11670  non-null values\n",
        "departamento      11670  non-null values\n",
        "partidoId         11670  non-null values\n",
        "partido           11670  non-null values\n",
        "votos             11670  non-null values\n",
        "dtypes: int64(4), object(4)"
       ]
      }
     ],
     "prompt_number": 9
    },
    {
     "cell_type": "code",
     "collapsed": false,
     "input": [
      "df.head()"
     ],
     "language": "python",
     "metadata": {},
     "outputs": [
      {
       "html": [
        "<div style=\"max-height:1000px;max-width:1500px;overflow:auto;\">\n",
        "<table border=\"1\" class=\"dataframe\">\n",
        "  <thead>\n",
        "    <tr style=\"text-align: right;\">\n",
        "      <th></th>\n",
        "      <th>eleccion</th>\n",
        "      <th>provinciaId</th>\n",
        "      <th>provincia</th>\n",
        "      <th>departamentoId</th>\n",
        "      <th>departamento</th>\n",
        "      <th>partidoId</th>\n",
        "      <th>partido</th>\n",
        "      <th>votos</th>\n",
        "    </tr>\n",
        "    <tr>\n",
        "      <th>anio</th>\n",
        "      <th></th>\n",
        "      <th></th>\n",
        "      <th></th>\n",
        "      <th></th>\n",
        "      <th></th>\n",
        "      <th></th>\n",
        "      <th></th>\n",
        "      <th></th>\n",
        "    </tr>\n",
        "  </thead>\n",
        "  <tbody>\n",
        "    <tr>\n",
        "      <th>2007</th>\n",
        "      <td> PRESIDENTE</td>\n",
        "      <td> 2</td>\n",
        "      <td> Buenos Aires</td>\n",
        "      <td>  16</td>\n",
        "      <td>       CAMPANA</td>\n",
        "      <td> 14</td>\n",
        "      <td> OBRERO</td>\n",
        "      <td>  286</td>\n",
        "    </tr>\n",
        "    <tr>\n",
        "      <th>2007</th>\n",
        "      <td> PRESIDENTE</td>\n",
        "      <td> 2</td>\n",
        "      <td> Buenos Aires</td>\n",
        "      <td>  35</td>\n",
        "      <td>       ESCOBAR</td>\n",
        "      <td> 14</td>\n",
        "      <td> OBRERO</td>\n",
        "      <td>  779</td>\n",
        "    </tr>\n",
        "    <tr>\n",
        "      <th>2007</th>\n",
        "      <td> PRESIDENTE</td>\n",
        "      <td> 2</td>\n",
        "      <td> Buenos Aires</td>\n",
        "      <td>  51</td>\n",
        "      <td>  G. RODRIGUEZ</td>\n",
        "      <td> 14</td>\n",
        "      <td> OBRERO</td>\n",
        "      <td>  306</td>\n",
        "    </tr>\n",
        "    <tr>\n",
        "      <th>2007</th>\n",
        "      <td> PRESIDENTE</td>\n",
        "      <td> 2</td>\n",
        "      <td> Buenos Aires</td>\n",
        "      <td>  52</td>\n",
        "      <td> G. SAN MARTIN</td>\n",
        "      <td> 14</td>\n",
        "      <td> OBRERO</td>\n",
        "      <td> 1502</td>\n",
        "    </tr>\n",
        "    <tr>\n",
        "      <th>2007</th>\n",
        "      <td> PRESIDENTE</td>\n",
        "      <td> 2</td>\n",
        "      <td> Buenos Aires</td>\n",
        "      <td> 134</td>\n",
        "      <td>    HURLINGHAM</td>\n",
        "      <td> 14</td>\n",
        "      <td> OBRERO</td>\n",
        "      <td> 1043</td>\n",
        "    </tr>\n",
        "  </tbody>\n",
        "</table>\n",
        "</div>"
       ],
       "metadata": {},
       "output_type": "pyout",
       "prompt_number": 11,
       "text": [
        "        eleccion  provinciaId     provincia  departamentoId   departamento  \\\n",
        "anio                                                                         \n",
        "2007  PRESIDENTE            2  Buenos Aires              16        CAMPANA   \n",
        "2007  PRESIDENTE            2  Buenos Aires              35        ESCOBAR   \n",
        "2007  PRESIDENTE            2  Buenos Aires              51   G. RODRIGUEZ   \n",
        "2007  PRESIDENTE            2  Buenos Aires              52  G. SAN MARTIN   \n",
        "2007  PRESIDENTE            2  Buenos Aires             134     HURLINGHAM   \n",
        "\n",
        "      partidoId partido  votos  \n",
        "anio                            \n",
        "2007         14  OBRERO    286  \n",
        "2007         14  OBRERO    779  \n",
        "2007         14  OBRERO    306  \n",
        "2007         14  OBRERO   1502  \n",
        "2007         14  OBRERO   1043  "
       ]
      }
     ],
     "prompt_number": 11
    },
    {
     "cell_type": "code",
     "collapsed": false,
     "input": [
      "df?"
     ],
     "language": "python",
     "metadata": {},
     "outputs": [],
     "prompt_number": 17
    },
    {
     "cell_type": "code",
     "collapsed": false,
     "input": [],
     "language": "python",
     "metadata": {},
     "outputs": []
    }
   ],
   "metadata": {}
  }
 ]
}