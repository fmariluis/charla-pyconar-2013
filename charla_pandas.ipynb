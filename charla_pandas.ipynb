{
 "metadata": {
  "name": ""
 },
 "nbformat": 3,
 "nbformat_minor": 0,
 "worksheets": [
  {
   "cells": [
    {
     "cell_type": "heading",
     "level": 1,
     "metadata": {
      "slideshow": {
       "slide_type": "slide"
      }
     },
     "source": [
      "An\u00e1lisis de datos con Pandas"
     ]
    },
    {
     "cell_type": "markdown",
     "metadata": {
      "slideshow": {
       "slide_type": "slide"
      }
     },
     "source": [
      "pandas (http://pandas.pydata.org) es una librer\u00eda de Python para facilitar el an\u00e1lisis y la manipulaci\u00f3n de todo tipo de datos."
     ]
    },
    {
     "cell_type": "code",
     "collapsed": false,
     "input": [
      "import pandas as pd"
     ],
     "language": "python",
     "metadata": {},
     "outputs": [],
     "prompt_number": 1
    },
    {
     "cell_type": "code",
     "collapsed": false,
     "input": [
      "df = pd.DataFrame()"
     ],
     "language": "python",
     "metadata": {},
     "outputs": [],
     "prompt_number": 2
    },
    {
     "cell_type": "code",
     "collapsed": false,
     "input": [
      "ls"
     ],
     "language": "python",
     "metadata": {},
     "outputs": [
      {
       "output_type": "stream",
       "stream": "stdout",
       "text": [
        "charla_pandas.html  charla_pandas.ipynb  charla_pandas.slides.html\r\n"
       ]
      }
     ],
     "prompt_number": 3
    },
    {
     "cell_type": "code",
     "collapsed": false,
     "input": [
      "df = pd.DataFrame.from_csv('electoral-2007-presidente.csv')"
     ],
     "language": "python",
     "metadata": {},
     "outputs": [],
     "prompt_number": 5
    },
    {
     "cell_type": "code",
     "collapsed": false,
     "input": [
      "df"
     ],
     "language": "python",
     "metadata": {},
     "outputs": [
      {
       "html": [
        "<pre>\n",
        "&lt;class 'pandas.core.frame.DataFrame'&gt;\n",
        "DatetimeIndex: 11670 entries, 2007-01-01 00:00:00 to 2007-01-01 00:00:00\n",
        "Data columns (total 8 columns):\n",
        "eleccion          11670  non-null values\n",
        "provinciaId       11670  non-null values\n",
        "provincia         11670  non-null values\n",
        "departamentoId    11670  non-null values\n",
        "departamento      11670  non-null values\n",
        "partidoId         11670  non-null values\n",
        "partido           11670  non-null values\n",
        "votos             11670  non-null values\n",
        "dtypes: int64(4), object(4)\n",
        "</pre>"
       ],
       "metadata": {},
       "output_type": "pyout",
       "prompt_number": 6,
       "text": [
        "<class 'pandas.core.frame.DataFrame'>\n",
        "DatetimeIndex: 11670 entries, 2007-01-01 00:00:00 to 2007-01-01 00:00:00\n",
        "Data columns (total 8 columns):\n",
        "eleccion          11670  non-null values\n",
        "provinciaId       11670  non-null values\n",
        "provincia         11670  non-null values\n",
        "departamentoId    11670  non-null values\n",
        "departamento      11670  non-null values\n",
        "partidoId         11670  non-null values\n",
        "partido           11670  non-null values\n",
        "votos             11670  non-null values\n",
        "dtypes: int64(4), object(4)"
       ]
      }
     ],
     "prompt_number": 6
    },
    {
     "cell_type": "code",
     "collapsed": false,
     "input": [
      "df[1]"
     ],
     "language": "python",
     "metadata": {},
     "outputs": [
      {
       "ename": "KeyError",
       "evalue": "u'no item named 1'",
       "output_type": "pyerr",
       "traceback": [
        "\u001b[1;31m---------------------------------------------------------------------------\u001b[0m\n\u001b[1;31mKeyError\u001b[0m                                  Traceback (most recent call last)",
        "\u001b[1;32m<ipython-input-7-dc0ea82142cb>\u001b[0m in \u001b[0;36m<module>\u001b[1;34m()\u001b[0m\n\u001b[1;32m----> 1\u001b[1;33m \u001b[0mdf\u001b[0m\u001b[1;33m[\u001b[0m\u001b[1;36m1\u001b[0m\u001b[1;33m]\u001b[0m\u001b[1;33m\u001b[0m\u001b[0m\n\u001b[0m",
        "\u001b[1;32m/home/franco/.virtualenvs/pyconar/local/lib/python2.7/site-packages/pandas/core/frame.pyc\u001b[0m in \u001b[0;36m__getitem__\u001b[1;34m(self, key)\u001b[0m\n\u001b[0;32m   2001\u001b[0m             \u001b[1;31m# get column\u001b[0m\u001b[1;33m\u001b[0m\u001b[1;33m\u001b[0m\u001b[0m\n\u001b[0;32m   2002\u001b[0m             \u001b[1;32mif\u001b[0m \u001b[0mself\u001b[0m\u001b[1;33m.\u001b[0m\u001b[0mcolumns\u001b[0m\u001b[1;33m.\u001b[0m\u001b[0mis_unique\u001b[0m\u001b[1;33m:\u001b[0m\u001b[1;33m\u001b[0m\u001b[0m\n\u001b[1;32m-> 2003\u001b[1;33m                 \u001b[1;32mreturn\u001b[0m \u001b[0mself\u001b[0m\u001b[1;33m.\u001b[0m\u001b[0m_get_item_cache\u001b[0m\u001b[1;33m(\u001b[0m\u001b[0mkey\u001b[0m\u001b[1;33m)\u001b[0m\u001b[1;33m\u001b[0m\u001b[0m\n\u001b[0m\u001b[0;32m   2004\u001b[0m \u001b[1;33m\u001b[0m\u001b[0m\n\u001b[0;32m   2005\u001b[0m             \u001b[1;31m# duplicate columns\u001b[0m\u001b[1;33m\u001b[0m\u001b[1;33m\u001b[0m\u001b[0m\n",
        "\u001b[1;32m/home/franco/.virtualenvs/pyconar/local/lib/python2.7/site-packages/pandas/core/generic.pyc\u001b[0m in \u001b[0;36m_get_item_cache\u001b[1;34m(self, item)\u001b[0m\n\u001b[0;32m    665\u001b[0m             \u001b[1;32mreturn\u001b[0m \u001b[0mcache\u001b[0m\u001b[1;33m[\u001b[0m\u001b[0mitem\u001b[0m\u001b[1;33m]\u001b[0m\u001b[1;33m\u001b[0m\u001b[0m\n\u001b[0;32m    666\u001b[0m         \u001b[1;32mexcept\u001b[0m \u001b[0mException\u001b[0m\u001b[1;33m:\u001b[0m\u001b[1;33m\u001b[0m\u001b[0m\n\u001b[1;32m--> 667\u001b[1;33m             \u001b[0mvalues\u001b[0m \u001b[1;33m=\u001b[0m \u001b[0mself\u001b[0m\u001b[1;33m.\u001b[0m\u001b[0m_data\u001b[0m\u001b[1;33m.\u001b[0m\u001b[0mget\u001b[0m\u001b[1;33m(\u001b[0m\u001b[0mitem\u001b[0m\u001b[1;33m)\u001b[0m\u001b[1;33m\u001b[0m\u001b[0m\n\u001b[0m\u001b[0;32m    668\u001b[0m             \u001b[0mres\u001b[0m \u001b[1;33m=\u001b[0m \u001b[0mself\u001b[0m\u001b[1;33m.\u001b[0m\u001b[0m_box_item_values\u001b[0m\u001b[1;33m(\u001b[0m\u001b[0mitem\u001b[0m\u001b[1;33m,\u001b[0m \u001b[0mvalues\u001b[0m\u001b[1;33m)\u001b[0m\u001b[1;33m\u001b[0m\u001b[0m\n\u001b[0;32m    669\u001b[0m             \u001b[0mcache\u001b[0m\u001b[1;33m[\u001b[0m\u001b[0mitem\u001b[0m\u001b[1;33m]\u001b[0m \u001b[1;33m=\u001b[0m \u001b[0mres\u001b[0m\u001b[1;33m\u001b[0m\u001b[0m\n",
        "\u001b[1;32m/home/franco/.virtualenvs/pyconar/local/lib/python2.7/site-packages/pandas/core/internals.pyc\u001b[0m in \u001b[0;36mget\u001b[1;34m(self, item)\u001b[0m\n\u001b[0;32m   1653\u001b[0m     \u001b[1;32mdef\u001b[0m \u001b[0mget\u001b[0m\u001b[1;33m(\u001b[0m\u001b[0mself\u001b[0m\u001b[1;33m,\u001b[0m \u001b[0mitem\u001b[0m\u001b[1;33m)\u001b[0m\u001b[1;33m:\u001b[0m\u001b[1;33m\u001b[0m\u001b[0m\n\u001b[0;32m   1654\u001b[0m         \u001b[1;32mif\u001b[0m \u001b[0mself\u001b[0m\u001b[1;33m.\u001b[0m\u001b[0mitems\u001b[0m\u001b[1;33m.\u001b[0m\u001b[0mis_unique\u001b[0m\u001b[1;33m:\u001b[0m\u001b[1;33m\u001b[0m\u001b[0m\n\u001b[1;32m-> 1655\u001b[1;33m             \u001b[0m_\u001b[0m\u001b[1;33m,\u001b[0m \u001b[0mblock\u001b[0m \u001b[1;33m=\u001b[0m \u001b[0mself\u001b[0m\u001b[1;33m.\u001b[0m\u001b[0m_find_block\u001b[0m\u001b[1;33m(\u001b[0m\u001b[0mitem\u001b[0m\u001b[1;33m)\u001b[0m\u001b[1;33m\u001b[0m\u001b[0m\n\u001b[0m\u001b[0;32m   1656\u001b[0m             \u001b[1;32mreturn\u001b[0m \u001b[0mblock\u001b[0m\u001b[1;33m.\u001b[0m\u001b[0mget\u001b[0m\u001b[1;33m(\u001b[0m\u001b[0mitem\u001b[0m\u001b[1;33m)\u001b[0m\u001b[1;33m\u001b[0m\u001b[0m\n\u001b[0;32m   1657\u001b[0m         \u001b[1;32melse\u001b[0m\u001b[1;33m:\u001b[0m\u001b[1;33m\u001b[0m\u001b[0m\n",
        "\u001b[1;32m/home/franco/.virtualenvs/pyconar/local/lib/python2.7/site-packages/pandas/core/internals.pyc\u001b[0m in \u001b[0;36m_find_block\u001b[1;34m(self, item)\u001b[0m\n\u001b[0;32m   1933\u001b[0m \u001b[1;33m\u001b[0m\u001b[0m\n\u001b[0;32m   1934\u001b[0m     \u001b[1;32mdef\u001b[0m \u001b[0m_find_block\u001b[0m\u001b[1;33m(\u001b[0m\u001b[0mself\u001b[0m\u001b[1;33m,\u001b[0m \u001b[0mitem\u001b[0m\u001b[1;33m)\u001b[0m\u001b[1;33m:\u001b[0m\u001b[1;33m\u001b[0m\u001b[0m\n\u001b[1;32m-> 1935\u001b[1;33m         \u001b[0mself\u001b[0m\u001b[1;33m.\u001b[0m\u001b[0m_check_have\u001b[0m\u001b[1;33m(\u001b[0m\u001b[0mitem\u001b[0m\u001b[1;33m)\u001b[0m\u001b[1;33m\u001b[0m\u001b[0m\n\u001b[0m\u001b[0;32m   1936\u001b[0m         \u001b[1;32mfor\u001b[0m \u001b[0mi\u001b[0m\u001b[1;33m,\u001b[0m \u001b[0mblock\u001b[0m \u001b[1;32min\u001b[0m \u001b[0menumerate\u001b[0m\u001b[1;33m(\u001b[0m\u001b[0mself\u001b[0m\u001b[1;33m.\u001b[0m\u001b[0mblocks\u001b[0m\u001b[1;33m)\u001b[0m\u001b[1;33m:\u001b[0m\u001b[1;33m\u001b[0m\u001b[0m\n\u001b[0;32m   1937\u001b[0m             \u001b[1;32mif\u001b[0m \u001b[0mitem\u001b[0m \u001b[1;32min\u001b[0m \u001b[0mblock\u001b[0m\u001b[1;33m:\u001b[0m\u001b[1;33m\u001b[0m\u001b[0m\n",
        "\u001b[1;32m/home/franco/.virtualenvs/pyconar/local/lib/python2.7/site-packages/pandas/core/internals.pyc\u001b[0m in \u001b[0;36m_check_have\u001b[1;34m(self, item)\u001b[0m\n\u001b[0;32m   1940\u001b[0m     \u001b[1;32mdef\u001b[0m \u001b[0m_check_have\u001b[0m\u001b[1;33m(\u001b[0m\u001b[0mself\u001b[0m\u001b[1;33m,\u001b[0m \u001b[0mitem\u001b[0m\u001b[1;33m)\u001b[0m\u001b[1;33m:\u001b[0m\u001b[1;33m\u001b[0m\u001b[0m\n\u001b[0;32m   1941\u001b[0m         \u001b[1;32mif\u001b[0m \u001b[0mitem\u001b[0m \u001b[1;32mnot\u001b[0m \u001b[1;32min\u001b[0m \u001b[0mself\u001b[0m\u001b[1;33m.\u001b[0m\u001b[0mitems\u001b[0m\u001b[1;33m:\u001b[0m\u001b[1;33m\u001b[0m\u001b[0m\n\u001b[1;32m-> 1942\u001b[1;33m             \u001b[1;32mraise\u001b[0m \u001b[0mKeyError\u001b[0m\u001b[1;33m(\u001b[0m\u001b[1;34m'no item named %s'\u001b[0m \u001b[1;33m%\u001b[0m \u001b[0mcom\u001b[0m\u001b[1;33m.\u001b[0m\u001b[0mpprint_thing\u001b[0m\u001b[1;33m(\u001b[0m\u001b[0mitem\u001b[0m\u001b[1;33m)\u001b[0m\u001b[1;33m)\u001b[0m\u001b[1;33m\u001b[0m\u001b[0m\n\u001b[0m\u001b[0;32m   1943\u001b[0m \u001b[1;33m\u001b[0m\u001b[0m\n\u001b[0;32m   1944\u001b[0m     \u001b[1;32mdef\u001b[0m \u001b[0mreindex_axis\u001b[0m\u001b[1;33m(\u001b[0m\u001b[0mself\u001b[0m\u001b[1;33m,\u001b[0m \u001b[0mnew_axis\u001b[0m\u001b[1;33m,\u001b[0m \u001b[0mmethod\u001b[0m\u001b[1;33m=\u001b[0m\u001b[0mNone\u001b[0m\u001b[1;33m,\u001b[0m \u001b[0maxis\u001b[0m\u001b[1;33m=\u001b[0m\u001b[1;36m0\u001b[0m\u001b[1;33m,\u001b[0m \u001b[0mcopy\u001b[0m\u001b[1;33m=\u001b[0m\u001b[0mTrue\u001b[0m\u001b[1;33m)\u001b[0m\u001b[1;33m:\u001b[0m\u001b[1;33m\u001b[0m\u001b[0m\n",
        "\u001b[1;31mKeyError\u001b[0m: u'no item named 1'"
       ]
      }
     ],
     "prompt_number": 7
    },
    {
     "cell_type": "code",
     "collapsed": false,
     "input": [
      "df.head()"
     ],
     "language": "python",
     "metadata": {},
     "outputs": [
      {
       "html": [
        "<div style=\"max-height:1000px;max-width:1500px;overflow:auto;\">\n",
        "<table border=\"1\" class=\"dataframe\">\n",
        "  <thead>\n",
        "    <tr style=\"text-align: right;\">\n",
        "      <th></th>\n",
        "      <th>eleccion</th>\n",
        "      <th>provinciaId</th>\n",
        "      <th>provincia</th>\n",
        "      <th>departamentoId</th>\n",
        "      <th>departamento</th>\n",
        "      <th>partidoId</th>\n",
        "      <th>partido</th>\n",
        "      <th>votos</th>\n",
        "    </tr>\n",
        "    <tr>\n",
        "      <th>anio</th>\n",
        "      <th></th>\n",
        "      <th></th>\n",
        "      <th></th>\n",
        "      <th></th>\n",
        "      <th></th>\n",
        "      <th></th>\n",
        "      <th></th>\n",
        "      <th></th>\n",
        "    </tr>\n",
        "  </thead>\n",
        "  <tbody>\n",
        "    <tr>\n",
        "      <th>2007-01-01</th>\n",
        "      <td> PRESIDENTE</td>\n",
        "      <td> 2</td>\n",
        "      <td> Buenos Aires</td>\n",
        "      <td>  16</td>\n",
        "      <td>       CAMPANA</td>\n",
        "      <td> 14</td>\n",
        "      <td> OBRERO</td>\n",
        "      <td>  286</td>\n",
        "    </tr>\n",
        "    <tr>\n",
        "      <th>2007-01-01</th>\n",
        "      <td> PRESIDENTE</td>\n",
        "      <td> 2</td>\n",
        "      <td> Buenos Aires</td>\n",
        "      <td>  35</td>\n",
        "      <td>       ESCOBAR</td>\n",
        "      <td> 14</td>\n",
        "      <td> OBRERO</td>\n",
        "      <td>  779</td>\n",
        "    </tr>\n",
        "    <tr>\n",
        "      <th>2007-01-01</th>\n",
        "      <td> PRESIDENTE</td>\n",
        "      <td> 2</td>\n",
        "      <td> Buenos Aires</td>\n",
        "      <td>  51</td>\n",
        "      <td>  G. RODRIGUEZ</td>\n",
        "      <td> 14</td>\n",
        "      <td> OBRERO</td>\n",
        "      <td>  306</td>\n",
        "    </tr>\n",
        "    <tr>\n",
        "      <th>2007-01-01</th>\n",
        "      <td> PRESIDENTE</td>\n",
        "      <td> 2</td>\n",
        "      <td> Buenos Aires</td>\n",
        "      <td>  52</td>\n",
        "      <td> G. SAN MARTIN</td>\n",
        "      <td> 14</td>\n",
        "      <td> OBRERO</td>\n",
        "      <td> 1502</td>\n",
        "    </tr>\n",
        "    <tr>\n",
        "      <th>2007-01-01</th>\n",
        "      <td> PRESIDENTE</td>\n",
        "      <td> 2</td>\n",
        "      <td> Buenos Aires</td>\n",
        "      <td> 134</td>\n",
        "      <td>    HURLINGHAM</td>\n",
        "      <td> 14</td>\n",
        "      <td> OBRERO</td>\n",
        "      <td> 1043</td>\n",
        "    </tr>\n",
        "  </tbody>\n",
        "</table>\n",
        "</div>"
       ],
       "metadata": {},
       "output_type": "pyout",
       "prompt_number": 8,
       "text": [
        "              eleccion  provinciaId     provincia  departamentoId  \\\n",
        "anio                                                                \n",
        "2007-01-01  PRESIDENTE            2  Buenos Aires              16   \n",
        "2007-01-01  PRESIDENTE            2  Buenos Aires              35   \n",
        "2007-01-01  PRESIDENTE            2  Buenos Aires              51   \n",
        "2007-01-01  PRESIDENTE            2  Buenos Aires              52   \n",
        "2007-01-01  PRESIDENTE            2  Buenos Aires             134   \n",
        "\n",
        "             departamento  partidoId partido  votos  \n",
        "anio                                                 \n",
        "2007-01-01        CAMPANA         14  OBRERO    286  \n",
        "2007-01-01        ESCOBAR         14  OBRERO    779  \n",
        "2007-01-01   G. RODRIGUEZ         14  OBRERO    306  \n",
        "2007-01-01  G. SAN MARTIN         14  OBRERO   1502  \n",
        "2007-01-01     HURLINGHAM         14  OBRERO   1043  "
       ]
      }
     ],
     "prompt_number": 8
    },
    {
     "cell_type": "code",
     "collapsed": false,
     "input": [
      "df.eleccion"
     ],
     "language": "python",
     "metadata": {},
     "outputs": [
      {
       "metadata": {},
       "output_type": "pyout",
       "prompt_number": 9,
       "text": [
        "anio\n",
        "2007-01-01    PRESIDENTE\n",
        "2007-01-01    PRESIDENTE\n",
        "2007-01-01    PRESIDENTE\n",
        "2007-01-01    PRESIDENTE\n",
        "2007-01-01    PRESIDENTE\n",
        "2007-01-01    PRESIDENTE\n",
        "2007-01-01    PRESIDENTE\n",
        "2007-01-01    PRESIDENTE\n",
        "2007-01-01    PRESIDENTE\n",
        "2007-01-01    PRESIDENTE\n",
        "2007-01-01    PRESIDENTE\n",
        "2007-01-01    PRESIDENTE\n",
        "2007-01-01    PRESIDENTE\n",
        "2007-01-01    PRESIDENTE\n",
        "2007-01-01    PRESIDENTE\n",
        "...\n",
        "2007-01-01    PRESIDENTE\n",
        "2007-01-01    PRESIDENTE\n",
        "2007-01-01    PRESIDENTE\n",
        "2007-01-01    PRESIDENTE\n",
        "2007-01-01    PRESIDENTE\n",
        "2007-01-01    PRESIDENTE\n",
        "2007-01-01    PRESIDENTE\n",
        "2007-01-01    PRESIDENTE\n",
        "2007-01-01    PRESIDENTE\n",
        "2007-01-01    PRESIDENTE\n",
        "2007-01-01    PRESIDENTE\n",
        "2007-01-01    PRESIDENTE\n",
        "2007-01-01    PRESIDENTE\n",
        "2007-01-01    PRESIDENTE\n",
        "2007-01-01    PRESIDENTE\n",
        "Name: eleccion, Length: 11670, dtype: object"
       ]
      }
     ],
     "prompt_number": 9
    },
    {
     "cell_type": "code",
     "collapsed": false,
     "input": [
      "df.eleccion.duplicated()"
     ],
     "language": "python",
     "metadata": {},
     "outputs": [
      {
       "metadata": {},
       "output_type": "pyout",
       "prompt_number": 10,
       "text": [
        "anio\n",
        "2007-01-01    False\n",
        "2007-01-01     True\n",
        "2007-01-01     True\n",
        "2007-01-01     True\n",
        "2007-01-01     True\n",
        "2007-01-01     True\n",
        "2007-01-01     True\n",
        "2007-01-01     True\n",
        "2007-01-01     True\n",
        "2007-01-01     True\n",
        "2007-01-01     True\n",
        "2007-01-01     True\n",
        "2007-01-01     True\n",
        "2007-01-01     True\n",
        "2007-01-01     True\n",
        "...\n",
        "2007-01-01    True\n",
        "2007-01-01    True\n",
        "2007-01-01    True\n",
        "2007-01-01    True\n",
        "2007-01-01    True\n",
        "2007-01-01    True\n",
        "2007-01-01    True\n",
        "2007-01-01    True\n",
        "2007-01-01    True\n",
        "2007-01-01    True\n",
        "2007-01-01    True\n",
        "2007-01-01    True\n",
        "2007-01-01    True\n",
        "2007-01-01    True\n",
        "2007-01-01    True\n",
        "Name: eleccion, Length: 11670, dtype: bool"
       ]
      }
     ],
     "prompt_number": 10
    },
    {
     "cell_type": "code",
     "collapsed": false,
     "input": [
      "df"
     ],
     "language": "python",
     "metadata": {},
     "outputs": [
      {
       "ename": "NameError",
       "evalue": "name 'df' is not defined",
       "output_type": "pyerr",
       "traceback": [
        "\u001b[1;31m---------------------------------------------------------------------------\u001b[0m\n\u001b[1;31mNameError\u001b[0m                                 Traceback (most recent call last)",
        "\u001b[1;32m<ipython-input-1-7ed0097d7e9e>\u001b[0m in \u001b[0;36m<module>\u001b[1;34m()\u001b[0m\n\u001b[1;32m----> 1\u001b[1;33m \u001b[0mdf\u001b[0m\u001b[1;33m\u001b[0m\u001b[0m\n\u001b[0m",
        "\u001b[1;31mNameError\u001b[0m: name 'df' is not defined"
       ]
      }
     ],
     "prompt_number": 1
    }
   ],
   "metadata": {}
  }
 ]
}